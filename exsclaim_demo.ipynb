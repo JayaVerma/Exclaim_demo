{
  "nbformat": 4,
  "nbformat_minor": 0,
  "metadata": {
    "colab": {
      "private_outputs": true,
      "provenance": [],
      "gpuType": "T4",
      "authorship_tag": "ABX9TyNvlcG69tCqT1gOIiwMzlF6",
      "include_colab_link": true
    },
    "kernelspec": {
      "name": "python3",
      "display_name": "Python 3"
    },
    "language_info": {
      "name": "python"
    },
    "accelerator": "GPU"
  },
  "cells": [
    {
      "cell_type": "markdown",
      "metadata": {
        "id": "view-in-github",
        "colab_type": "text"
      },
      "source": [
        "<a href=\"https://colab.research.google.com/github/JayaVerma/Exclaim_demo/blob/main/exsclaim_demo.ipynb\" target=\"_parent\"><img src=\"https://colab.research.google.com/assets/colab-badge.svg\" alt=\"Open In Colab\"/></a>"
      ]
    },
    {
      "cell_type": "code",
      "execution_count": null,
      "metadata": {
        "id": "Qkz1yluxDVVi"
      },
      "outputs": [],
      "source": [
        "!git clone -b javascript_fixes https://github.com/JayaVerma/exsclaim.git\n",
        "%cd exsclaim\n",
        "!pip install itables\n",
        "!python setup.py install\n",
        "!pip install urllib3==1.25.10\n",
        "!pip install --upgrade --no-cache-dir gdown\n",
        "from IPython.display import clear_output\n",
        "import pandas as pd"
      ]
    },
    {
      "cell_type": "code",
      "source": [
        "import os\n",
        "import shutil\n",
        "\n",
        "# Define the path to the output folder\n",
        "output_folder = '/content/exsclaim/output'\n",
        "\n",
        "# Check if the folder exists\n",
        "if os.path.exists(output_folder):\n",
        "    # Check if the folder is empty\n",
        "    if len(os.listdir(output_folder)) == 0:\n",
        "        print(\"The output folder is already empty.\")\n",
        "    else:\n",
        "        # If not empty, delete the contents\n",
        "        for filename in os.listdir(output_folder):\n",
        "            file_path = os.path.join(output_folder, filename)\n",
        "            try:\n",
        "                # If it's a file, remove it\n",
        "                if os.path.isfile(file_path) or os.path.islink(file_path):\n",
        "                    os.unlink(file_path)\n",
        "                # If it's a directory, remove it along with its contents\n",
        "                elif os.path.isdir(file_path):\n",
        "                    shutil.rmtree(file_path)\n",
        "            except Exception as e:\n",
        "                print(f'Failed to delete {file_path}. Reason: {e}')\n",
        "        print(\"The output folder has been emptied.\")\n",
        "else:\n",
        "    print(f\"The folder {output_folder} does not exist.\")\n"
      ],
      "metadata": {
        "id": "rCAR9EYtMexT"
      },
      "execution_count": null,
      "outputs": []
    },
    {
      "cell_type": "code",
      "source": [
        "#import requests\n",
        "import os\n",
        "\n",
        "def download_file_from_google_drive(id, destination):\n",
        "    URL = \"https://docs.google.com/uc?id=\"+id\n",
        "    cmd = \"gdown %s -O %s\"%(URL, destination)\n",
        "    os.system(cmd)"
      ],
      "metadata": {
        "id": "fyYWyFegDaxI"
      },
      "execution_count": null,
      "outputs": []
    },
    {
      "cell_type": "code",
      "source": [
        "# Load the pretrained models\n",
        "!mkdir /content/exsclaim/exsclaim/figures/checkpoints/\n",
        "download_file_from_google_drive('1ZodeH37Nd4ZbA0_1G_MkLKuuiyk7VUXR', '/content/exsclaim/exsclaim/figures/checkpoints/classifier_model.pt')\n",
        "download_file_from_google_drive('1Hh7IPTEc-oTWDGAxI9o0lKrv9MBgP4rm', '/content/exsclaim/exsclaim/figures/checkpoints/object_detection_model.pt')\n",
        "download_file_from_google_drive('1rZaxCPEWKGwvwYYa8jLINpUt20h0jo8y', '/content/exsclaim/exsclaim/figures/checkpoints/text_recognition_model.pt')\n",
        "download_file_from_google_drive('1B4_rMbP3a1XguHHX4EnJ6tSlyCCRIiy4', '/content/exsclaim/exsclaim/figures/checkpoints/scale_bar_detection_model.pt')\n",
        "download_file_from_google_drive('1oGjPG698LdSGvv3FhrLYh_1FhcmYYKpu', '/content/exsclaim/exsclaim/figures/checkpoints/scale_label_recognition_model.pt')\n"
      ],
      "metadata": {
        "id": "VbKF7qxwDoIb"
      },
      "execution_count": null,
      "outputs": []
    },
    {
      "cell_type": "code",
      "source": [
        "test_json =  {\n",
        "    \"name\": \"nature-nano\",\n",
        "\n",
        "    \"journal_family\": \"nature\",\n",
        "\n",
        "    \"maximum_scraped\": 5,\n",
        "\n",
        "    \"sortby\": 'relevant',\n",
        "\n",
        "    \"query\":\n",
        "\n",
        "    { \"search_field_1\":\n",
        "\n",
        "        {   \"term\":\"polymer protein complex\",\n",
        "\n",
        "            \"synonyms\":[\"protein-polymer complex\", \"polymeric protein complex\", \"polymer-protein interaction\", \"polymer-protein assembly\", \"protein complex with polymer\", \"polymeric protein assembly\"] } },\n",
        "\n",
        "    \"open\": True,\n",
        "\n",
        "    \"save_format\": [\"boxes\", \"save_subfigures\" ],\n",
        "\n",
        "    \"logging\": [\"print\", \"exsclaim.log\"]\n",
        "    }"
      ],
      "metadata": {
        "id": "AEIk7xDGDoEg"
      },
      "execution_count": null,
      "outputs": []
    },
    {
      "cell_type": "code",
      "source": [
        "from exsclaim import journal\n",
        "from exsclaim import pipeline\n",
        "from exsclaim import tool\n"
      ],
      "metadata": {
        "id": "w5dKpP87DoBS"
      },
      "execution_count": null,
      "outputs": []
    },
    {
      "cell_type": "code",
      "source": [
        "from exsclaim.pipeline import Pipeline\n",
        "test_pipeline = Pipeline(test_json)\n",
        "results = test_pipeline.run()"
      ],
      "metadata": {
        "id": "7NmktVhVDn-Q"
      },
      "execution_count": null,
      "outputs": []
    },
    {
      "cell_type": "code",
      "source": [
        "from google.colab.patches import cv2_imshow\n",
        "import cv2\n",
        "import os\n",
        "import random\n",
        "\n",
        "folder_path = '/content/exsclaim/output/nature-nano/figures/'\n",
        "png_files = [f for f in os.listdir(folder_path ) if f.endswith('.jpg')]\n",
        "image = random.choice(png_files)\n",
        "img = cv2.imread(os.path.join(folder_path , image))\n",
        "cv2_imshow(img)\n",
        "# Execution output\n",
        "# 545KB\n",
        "# \ttext/plain\n",
        "# \t\t<PIL.Image.Image image mode=RGB size=685x466 at 0x7F378DAAE050>\n"
      ],
      "metadata": {
        "id": "nWr_RRT7Dn7K"
      },
      "execution_count": null,
      "outputs": []
    },
    {
      "cell_type": "code",
      "source": [
        "def plot_subfigure(label):\n",
        "  dir_path = f\"/content/exsclaim/output/nature-nano/images/{image.split('.')[0]}/{label}/\"\n",
        "  files = os.listdir(dir_path)\n",
        "  image_files = [f for f in files if f.startswith(f\"{image.split('.')[0]}_{label}\") and f.endswith('.jpg')][0]\n",
        "  img = cv2.imread(os.path.join(dir_path, image_files))\n",
        "  return cv2_imshow(img)\n",
        "\n",
        "plot_subfigure('b')\n",
        "plot_subfigure('c')\n",
        "# Execution output\n",
        "# 144KB\n",
        "# \ttext/plain\n",
        "# \t\t<PIL.Image.Image image mode=RGB size=333x236 at 0x7F378DAACC70>\n"
      ],
      "metadata": {
        "id": "jJD9P_7tDn3y"
      },
      "execution_count": null,
      "outputs": []
    },
    {
      "cell_type": "code",
      "source": [
        "from exsclaim.visualize_dataset import *\n",
        "from itables import init_notebook_mode\n",
        "init_notebook_mode(all_interactive=True)\n",
        "\n",
        "df = read_jsons('/content/exsclaim/output/nature-nano/exsclaim.json')\n",
        "display(df)"
      ],
      "metadata": {
        "id": "EpKvkRC9DnxG"
      },
      "execution_count": null,
      "outputs": []
    },
    {
      "cell_type": "code",
      "source": [
        "# Import necessary module\n",
        "from google.colab import files\n",
        "\n",
        "# Save the DataFrame to a CSV file\n",
        "my_df = df.to_csv('my_dataframe_polymer_protein_complex.csv', index=False)\n",
        "\n",
        "# Download the file\n",
        "#files.download('my_dataframe.csv')"
      ],
      "metadata": {
        "id": "hmb0vTs4Dntx"
      },
      "execution_count": null,
      "outputs": []
    },
    {
      "cell_type": "code",
      "source": [],
      "metadata": {
        "id": "7zOoWm19DnqF"
      },
      "execution_count": null,
      "outputs": []
    },
    {
      "cell_type": "code",
      "source": [],
      "metadata": {
        "id": "2xdcbtRNDnmV"
      },
      "execution_count": null,
      "outputs": []
    }
  ]
}